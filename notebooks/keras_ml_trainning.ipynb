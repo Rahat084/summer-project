{
 "cells": [
  {
   "cell_type": "markdown",
   "metadata": {},
   "source": [
    "# Deep Nural Network with Keras"
   ]
  },
  {
   "cell_type": "markdown",
   "metadata": {},
   "source": [
    "## Import Necessary Modules"
   ]
  },
  {
   "cell_type": "code",
   "execution_count": 1,
   "metadata": {},
   "outputs": [],
   "source": [
    "import os\n",
    "import sys\n",
    "import numpy as np\n",
    "import pandas as pd\n",
    "import matplotlib.pyplot as plt\n",
    "import seaborn as sns\n",
    "from sklearn.model_selection import train_test_split\n",
    "from sklearn.preprocessing import OneHotEncoder,LabelBinarizer,MinMaxScaler,StandardScaler\n",
    "from tensorflow.keras.models import Sequential\n",
    "import tensorflow as tf\n",
    "from tensorflow.keras.layers import Dense\n",
    "from tensorflow.keras import optimizers\n",
    "from tensorflow.keras import initializers"
   ]
  },
  {
   "cell_type": "markdown",
   "metadata": {},
   "source": [
    "## Import Data"
   ]
  },
  {
   "cell_type": "code",
   "execution_count": 3,
   "metadata": {},
   "outputs": [
    {
     "data": {
      "text/html": [
       "<div>\n",
       "<style scoped>\n",
       "    .dataframe tbody tr th:only-of-type {\n",
       "        vertical-align: middle;\n",
       "    }\n",
       "\n",
       "    .dataframe tbody tr th {\n",
       "        vertical-align: top;\n",
       "    }\n",
       "\n",
       "    .dataframe thead th {\n",
       "        text-align: right;\n",
       "    }\n",
       "</style>\n",
       "<table border=\"1\" class=\"dataframe\">\n",
       "  <thead>\n",
       "    <tr style=\"text-align: right;\">\n",
       "      <th></th>\n",
       "      <th>strain11</th>\n",
       "      <th>strain22</th>\n",
       "      <th>strain12</th>\n",
       "      <th>stress11</th>\n",
       "      <th>stress22</th>\n",
       "      <th>stress12</th>\n",
       "      <th>defect_mode</th>\n",
       "    </tr>\n",
       "  </thead>\n",
       "  <tbody>\n",
       "    <tr>\n",
       "      <th>0</th>\n",
       "      <td>-5.000000e-05</td>\n",
       "      <td>-0.00005</td>\n",
       "      <td>0.000000</td>\n",
       "      <td>-0.013583</td>\n",
       "      <td>-0.022138</td>\n",
       "      <td>0.000618</td>\n",
       "      <td>1</td>\n",
       "    </tr>\n",
       "    <tr>\n",
       "      <th>1</th>\n",
       "      <td>-1.000000e-04</td>\n",
       "      <td>-0.00010</td>\n",
       "      <td>0.000000</td>\n",
       "      <td>-0.040113</td>\n",
       "      <td>-0.008942</td>\n",
       "      <td>-0.005942</td>\n",
       "      <td>1</td>\n",
       "    </tr>\n",
       "    <tr>\n",
       "      <th>2</th>\n",
       "      <td>-1.500000e-04</td>\n",
       "      <td>-0.00015</td>\n",
       "      <td>0.000000</td>\n",
       "      <td>-0.033780</td>\n",
       "      <td>-0.031261</td>\n",
       "      <td>-0.008021</td>\n",
       "      <td>1</td>\n",
       "    </tr>\n",
       "    <tr>\n",
       "      <th>3</th>\n",
       "      <td>-2.000000e-04</td>\n",
       "      <td>-0.00020</td>\n",
       "      <td>0.000000</td>\n",
       "      <td>-0.037354</td>\n",
       "      <td>-0.059623</td>\n",
       "      <td>0.004804</td>\n",
       "      <td>1</td>\n",
       "    </tr>\n",
       "    <tr>\n",
       "      <th>4</th>\n",
       "      <td>-2.500000e-04</td>\n",
       "      <td>-0.00025</td>\n",
       "      <td>0.000000</td>\n",
       "      <td>-0.053246</td>\n",
       "      <td>-0.049469</td>\n",
       "      <td>-0.007299</td>\n",
       "      <td>1</td>\n",
       "    </tr>\n",
       "    <tr>\n",
       "      <th>...</th>\n",
       "      <td>...</td>\n",
       "      <td>...</td>\n",
       "      <td>...</td>\n",
       "      <td>...</td>\n",
       "      <td>...</td>\n",
       "      <td>...</td>\n",
       "      <td>...</td>\n",
       "    </tr>\n",
       "    <tr>\n",
       "      <th>165995</th>\n",
       "      <td>8.740412e-16</td>\n",
       "      <td>-0.19980</td>\n",
       "      <td>0.199078</td>\n",
       "      <td>-23.844975</td>\n",
       "      <td>-27.547010</td>\n",
       "      <td>5.018410</td>\n",
       "      <td>0</td>\n",
       "    </tr>\n",
       "    <tr>\n",
       "      <th>165996</th>\n",
       "      <td>8.740412e-16</td>\n",
       "      <td>-0.19985</td>\n",
       "      <td>0.199127</td>\n",
       "      <td>-23.875656</td>\n",
       "      <td>-27.557866</td>\n",
       "      <td>5.007577</td>\n",
       "      <td>0</td>\n",
       "    </tr>\n",
       "    <tr>\n",
       "      <th>165997</th>\n",
       "      <td>8.740412e-16</td>\n",
       "      <td>-0.19990</td>\n",
       "      <td>0.199177</td>\n",
       "      <td>-23.841551</td>\n",
       "      <td>-27.610255</td>\n",
       "      <td>5.000587</td>\n",
       "      <td>0</td>\n",
       "    </tr>\n",
       "    <tr>\n",
       "      <th>165998</th>\n",
       "      <td>8.740412e-16</td>\n",
       "      <td>-0.19995</td>\n",
       "      <td>0.199227</td>\n",
       "      <td>-23.832272</td>\n",
       "      <td>-27.613363</td>\n",
       "      <td>5.049358</td>\n",
       "      <td>0</td>\n",
       "    </tr>\n",
       "    <tr>\n",
       "      <th>165999</th>\n",
       "      <td>8.740412e-16</td>\n",
       "      <td>-0.20000</td>\n",
       "      <td>0.199277</td>\n",
       "      <td>-23.823343</td>\n",
       "      <td>-27.663891</td>\n",
       "      <td>5.070539</td>\n",
       "      <td>0</td>\n",
       "    </tr>\n",
       "  </tbody>\n",
       "</table>\n",
       "<p>166000 rows × 7 columns</p>\n",
       "</div>"
      ],
      "text/plain": [
       "            strain11  strain22  strain12   stress11   stress22  stress12  \\\n",
       "0      -5.000000e-05  -0.00005  0.000000  -0.013583  -0.022138  0.000618   \n",
       "1      -1.000000e-04  -0.00010  0.000000  -0.040113  -0.008942 -0.005942   \n",
       "2      -1.500000e-04  -0.00015  0.000000  -0.033780  -0.031261 -0.008021   \n",
       "3      -2.000000e-04  -0.00020  0.000000  -0.037354  -0.059623  0.004804   \n",
       "4      -2.500000e-04  -0.00025  0.000000  -0.053246  -0.049469 -0.007299   \n",
       "...              ...       ...       ...        ...        ...       ...   \n",
       "165995  8.740412e-16  -0.19980  0.199078 -23.844975 -27.547010  5.018410   \n",
       "165996  8.740412e-16  -0.19985  0.199127 -23.875656 -27.557866  5.007577   \n",
       "165997  8.740412e-16  -0.19990  0.199177 -23.841551 -27.610255  5.000587   \n",
       "165998  8.740412e-16  -0.19995  0.199227 -23.832272 -27.613363  5.049358   \n",
       "165999  8.740412e-16  -0.20000  0.199277 -23.823343 -27.663891  5.070539   \n",
       "\n",
       "        defect_mode  \n",
       "0                 1  \n",
       "1                 1  \n",
       "2                 1  \n",
       "3                 1  \n",
       "4                 1  \n",
       "...             ...  \n",
       "165995            0  \n",
       "165996            0  \n",
       "165997            0  \n",
       "165998            0  \n",
       "165999            0  \n",
       "\n",
       "[166000 rows x 7 columns]"
      ]
     },
     "metadata": {},
     "output_type": "display_data"
    }
   ],
   "source": [
    "data=pd.read_csv(\"../data/labelled-data/data_all\")\n",
    "display(data)"
   ]
  },
  {
   "cell_type": "code",
   "execution_count": 6,
   "metadata": {},
   "outputs": [
    {
     "data": {
      "text/plain": [
       "strain11       False\n",
       "strain22       False\n",
       "strain12       False\n",
       "stress11       False\n",
       "stress22       False\n",
       "stress12       False\n",
       "defect_mode    False\n",
       "dtype: bool"
      ]
     },
     "execution_count": 6,
     "metadata": {},
     "output_type": "execute_result"
    }
   ],
   "source": [
    "data.isnull().any()"
   ]
  },
  {
   "cell_type": "code",
   "execution_count": 7,
   "metadata": {},
   "outputs": [
    {
     "data": {
      "text/html": [
       "<div>\n",
       "<style scoped>\n",
       "    .dataframe tbody tr th:only-of-type {\n",
       "        vertical-align: middle;\n",
       "    }\n",
       "\n",
       "    .dataframe tbody tr th {\n",
       "        vertical-align: top;\n",
       "    }\n",
       "\n",
       "    .dataframe thead th {\n",
       "        text-align: right;\n",
       "    }\n",
       "</style>\n",
       "<table border=\"1\" class=\"dataframe\">\n",
       "  <thead>\n",
       "    <tr style=\"text-align: right;\">\n",
       "      <th></th>\n",
       "      <th>strain11</th>\n",
       "      <th>strain22</th>\n",
       "      <th>strain12</th>\n",
       "      <th>stress11</th>\n",
       "      <th>stress22</th>\n",
       "      <th>stress12</th>\n",
       "      <th>defect_mode</th>\n",
       "    </tr>\n",
       "  </thead>\n",
       "  <tbody>\n",
       "    <tr>\n",
       "      <th>0</th>\n",
       "      <td>-5.000000e-05</td>\n",
       "      <td>-0.00005</td>\n",
       "      <td>0.000000</td>\n",
       "      <td>-0.013583</td>\n",
       "      <td>-0.022138</td>\n",
       "      <td>0.000618</td>\n",
       "      <td>1</td>\n",
       "    </tr>\n",
       "    <tr>\n",
       "      <th>1</th>\n",
       "      <td>-1.000000e-04</td>\n",
       "      <td>-0.00010</td>\n",
       "      <td>0.000000</td>\n",
       "      <td>-0.040113</td>\n",
       "      <td>-0.008942</td>\n",
       "      <td>-0.005942</td>\n",
       "      <td>1</td>\n",
       "    </tr>\n",
       "    <tr>\n",
       "      <th>2</th>\n",
       "      <td>-1.500000e-04</td>\n",
       "      <td>-0.00015</td>\n",
       "      <td>0.000000</td>\n",
       "      <td>-0.033780</td>\n",
       "      <td>-0.031261</td>\n",
       "      <td>-0.008021</td>\n",
       "      <td>1</td>\n",
       "    </tr>\n",
       "    <tr>\n",
       "      <th>3</th>\n",
       "      <td>-2.000000e-04</td>\n",
       "      <td>-0.00020</td>\n",
       "      <td>0.000000</td>\n",
       "      <td>-0.037354</td>\n",
       "      <td>-0.059623</td>\n",
       "      <td>0.004804</td>\n",
       "      <td>1</td>\n",
       "    </tr>\n",
       "    <tr>\n",
       "      <th>4</th>\n",
       "      <td>-2.500000e-04</td>\n",
       "      <td>-0.00025</td>\n",
       "      <td>0.000000</td>\n",
       "      <td>-0.053246</td>\n",
       "      <td>-0.049469</td>\n",
       "      <td>-0.007299</td>\n",
       "      <td>1</td>\n",
       "    </tr>\n",
       "    <tr>\n",
       "      <th>...</th>\n",
       "      <td>...</td>\n",
       "      <td>...</td>\n",
       "      <td>...</td>\n",
       "      <td>...</td>\n",
       "      <td>...</td>\n",
       "      <td>...</td>\n",
       "      <td>...</td>\n",
       "    </tr>\n",
       "    <tr>\n",
       "      <th>165995</th>\n",
       "      <td>8.740412e-16</td>\n",
       "      <td>-0.19980</td>\n",
       "      <td>0.199078</td>\n",
       "      <td>-23.844975</td>\n",
       "      <td>-27.547010</td>\n",
       "      <td>5.018410</td>\n",
       "      <td>0</td>\n",
       "    </tr>\n",
       "    <tr>\n",
       "      <th>165996</th>\n",
       "      <td>8.740412e-16</td>\n",
       "      <td>-0.19985</td>\n",
       "      <td>0.199127</td>\n",
       "      <td>-23.875656</td>\n",
       "      <td>-27.557866</td>\n",
       "      <td>5.007577</td>\n",
       "      <td>0</td>\n",
       "    </tr>\n",
       "    <tr>\n",
       "      <th>165997</th>\n",
       "      <td>8.740412e-16</td>\n",
       "      <td>-0.19990</td>\n",
       "      <td>0.199177</td>\n",
       "      <td>-23.841551</td>\n",
       "      <td>-27.610255</td>\n",
       "      <td>5.000587</td>\n",
       "      <td>0</td>\n",
       "    </tr>\n",
       "    <tr>\n",
       "      <th>165998</th>\n",
       "      <td>8.740412e-16</td>\n",
       "      <td>-0.19995</td>\n",
       "      <td>0.199227</td>\n",
       "      <td>-23.832272</td>\n",
       "      <td>-27.613363</td>\n",
       "      <td>5.049358</td>\n",
       "      <td>0</td>\n",
       "    </tr>\n",
       "    <tr>\n",
       "      <th>165999</th>\n",
       "      <td>8.740412e-16</td>\n",
       "      <td>-0.20000</td>\n",
       "      <td>0.199277</td>\n",
       "      <td>-23.823343</td>\n",
       "      <td>-27.663891</td>\n",
       "      <td>5.070539</td>\n",
       "      <td>0</td>\n",
       "    </tr>\n",
       "  </tbody>\n",
       "</table>\n",
       "<p>166000 rows × 7 columns</p>\n",
       "</div>"
      ],
      "text/plain": [
       "            strain11  strain22  strain12   stress11   stress22  stress12  \\\n",
       "0      -5.000000e-05  -0.00005  0.000000  -0.013583  -0.022138  0.000618   \n",
       "1      -1.000000e-04  -0.00010  0.000000  -0.040113  -0.008942 -0.005942   \n",
       "2      -1.500000e-04  -0.00015  0.000000  -0.033780  -0.031261 -0.008021   \n",
       "3      -2.000000e-04  -0.00020  0.000000  -0.037354  -0.059623  0.004804   \n",
       "4      -2.500000e-04  -0.00025  0.000000  -0.053246  -0.049469 -0.007299   \n",
       "...              ...       ...       ...        ...        ...       ...   \n",
       "165995  8.740412e-16  -0.19980  0.199078 -23.844975 -27.547010  5.018410   \n",
       "165996  8.740412e-16  -0.19985  0.199127 -23.875656 -27.557866  5.007577   \n",
       "165997  8.740412e-16  -0.19990  0.199177 -23.841551 -27.610255  5.000587   \n",
       "165998  8.740412e-16  -0.19995  0.199227 -23.832272 -27.613363  5.049358   \n",
       "165999  8.740412e-16  -0.20000  0.199277 -23.823343 -27.663891  5.070539   \n",
       "\n",
       "        defect_mode  \n",
       "0                 1  \n",
       "1                 1  \n",
       "2                 1  \n",
       "3                 1  \n",
       "4                 1  \n",
       "...             ...  \n",
       "165995            0  \n",
       "165996            0  \n",
       "165997            0  \n",
       "165998            0  \n",
       "165999            0  \n",
       "\n",
       "[166000 rows x 7 columns]"
      ]
     },
     "metadata": {},
     "output_type": "display_data"
    }
   ],
   "source": [
    "display(data)"
   ]
  },
  {
   "cell_type": "code",
   "execution_count": 7,
   "metadata": {},
   "outputs": [
    {
     "data": {
      "text/plain": [
       "strain11       55668\n",
       "strain22       55668\n",
       "strain12       55668\n",
       "stress11       55668\n",
       "stress22       55668\n",
       "stress12       55668\n",
       "defect_mode    55668\n",
       "dtype: int64"
      ]
     },
     "execution_count": 7,
     "metadata": {},
     "output_type": "execute_result"
    }
   ],
   "source": [
    "data[data[\"defect_mode\"]==-0.0].count()"
   ]
  },
  {
   "cell_type": "markdown",
   "metadata": {},
   "source": [
    "# Defect Mode Clasification"
   ]
  },
  {
   "cell_type": "markdown",
   "metadata": {},
   "source": [
    "## Preprocessing"
   ]
  },
  {
   "cell_type": "markdown",
   "metadata": {},
   "source": [
    "### Input Features and class seperation"
   ]
  },
  {
   "cell_type": "code",
   "execution_count": 8,
   "metadata": {},
   "outputs": [],
   "source": [
    "X= data.iloc[:,0:3] # input feature\n",
    "y_class=data.iloc[:,-1] # Classes"
   ]
  },
  {
   "cell_type": "markdown",
   "metadata": {},
   "source": [
    "### One vs all encoding of Classes"
   ]
  },
  {
   "cell_type": "code",
   "execution_count": 9,
   "metadata": {},
   "outputs": [],
   "source": [
    "# One-Hot Enconding\n",
    "enc= OneHotEncoder(categories=\"auto\")\n",
    "y = enc.fit_transform(y_class.to_numpy().reshape(len(y_class),1)).toarray()"
   ]
  },
  {
   "cell_type": "markdown",
   "metadata": {},
   "source": [
    "### Training Test Split"
   ]
  },
  {
   "cell_type": "code",
   "execution_count": 10,
   "metadata": {},
   "outputs": [],
   "source": [
    "X_train,X_test,y_train,y_test=train_test_split(X,y,test_size=0.1,random_state=42)"
   ]
  },
  {
   "cell_type": "markdown",
   "metadata": {},
   "source": [
    "### Feature Scaling"
   ]
  },
  {
   "cell_type": "code",
   "execution_count": 11,
   "metadata": {},
   "outputs": [],
   "source": [
    "# Feature Scaling\n",
    "scaler=StandardScaler()\n",
    "X_train_norm=scaler.fit_transform(X_train)\n",
    "X_test_norm=scaler.fit_transform(X_test)"
   ]
  },
  {
   "cell_type": "code",
   "execution_count": 12,
   "metadata": {},
   "outputs": [
    {
     "data": {
      "text/plain": [
       "array([[-1.18722802, -1.23497178,  1.26972548],\n",
       "       [ 0.81746516,  0.80555056, -0.91262578],\n",
       "       [ 0.63803367,  0.62291215, -0.78685327],\n",
       "       ...,\n",
       "       [-1.33333227, -1.38368731,  1.52575494],\n",
       "       [-0.44807738, -0.48261057, -0.13483854],\n",
       "       [-0.44807738, -0.48261057, -0.68423291]])"
      ]
     },
     "metadata": {},
     "output_type": "display_data"
    }
   ],
   "source": [
    "display(X_test_norm)"
   ]
  },
  {
   "cell_type": "code",
   "execution_count": 13,
   "metadata": {},
   "outputs": [
    {
     "data": {
      "text/plain": [
       "array([[ 0.81450464,  0.8110155 , -0.90629917],\n",
       "       [ 0.529653  , -1.46455018,  1.68308563],\n",
       "       [-0.45229639, -0.47089152, -0.07212938],\n",
       "       ...,\n",
       "       [-0.45229639,  0.71372792, -0.02491222],\n",
       "       [-0.45229639,  2.20014971,  1.81158671],\n",
       "       [-1.03539395,  0.1191592 ,  0.98932476]])"
      ]
     },
     "metadata": {},
     "output_type": "display_data"
    }
   ],
   "source": [
    "display(X_train_norm)"
   ]
  },
  {
   "cell_type": "markdown",
   "metadata": {},
   "source": [
    "## Define Keras Model"
   ]
  },
  {
   "cell_type": "code",
   "execution_count": 14,
   "metadata": {},
   "outputs": [
    {
     "name": "stdout",
     "output_type": "stream",
     "text": [
      "Model: \"sequential\"\n",
      "_________________________________________________________________\n",
      "Layer (type)                 Output Shape              Param #   \n",
      "=================================================================\n",
      "dense (Dense)                (None, 16)                64        \n",
      "_________________________________________________________________\n",
      "dense_1 (Dense)              (None, 8)                 136       \n",
      "_________________________________________________________________\n",
      "dense_2 (Dense)              (None, 3)                 27        \n",
      "=================================================================\n",
      "Total params: 227\n",
      "Trainable params: 227\n",
      "Non-trainable params: 0\n",
      "_________________________________________________________________\n"
     ]
    }
   ],
   "source": [
    "# DEFINITION OF THE MODEL\n",
    "\n",
    "# The weights of our neural network will be initialized in a random manner, using a seed allows for reproducibility\n",
    "kernel_init = initializers.RandomNormal(seed=14)\n",
    "\n",
    "model = Sequential()\n",
    "model.add(Dense(16, activation='relu', input_shape=(X_train_norm.shape[1],), kernel_initializer=kernel_init))\n",
    "model.add(Dense(8, activation='relu', kernel_initializer=kernel_init))\n",
    "model.add(Dense(3, activation=tf.nn.softmax))  # Output Layer\n",
    "\n",
    "# DEFINITION OF THE OPTIMIZER\n",
    "\n",
    "optimizer = optimizers.RMSprop(0.002) # Root Mean Squared Propagation\n",
    "\n",
    "# This line matches the optimizer to the model and states which metrics will evaluate the model's accuracy\n",
    "model.compile(loss='categorical_crossentropy', optimizer=optimizer, metrics=['accuracy'])\n",
    "model.summary()"
   ]
  },
  {
   "cell_type": "code",
   "execution_count": 15,
   "metadata": {
    "tags": []
   },
   "outputs": [
    {
     "name": "stdout",
     "output_type": "stream",
     "text": [
      "Current Epoch: 1000\r"
     ]
    },
    {
     "data": {
      "image/png": "[encoded data removed]",
      "text/plain": [
       "<Figure size 432x288 with 1 Axes>"
      ]
     },
     "metadata": {
      "needs_background": "light"
     },
     "output_type": "display_data"
    }
   ],
   "source": [
    "class PrintEpNum(tf.keras.callbacks.Callback): # This is a function for the Epoch Counter\n",
    "    def on_epoch_end(self, epoch, logs):\n",
    "        sys.stdout.flush()\n",
    "        sys.stdout.write(\"Current Epoch: \" + str(epoch+1) + '\\r') # Updates current Epoch Number\n",
    "\n",
    "\n",
    "EPOCHS = 1000 # Number of EPOCHS\n",
    "\n",
    "# HISTORY Object which contains how the model learned\n",
    "history = model.fit(X_train_norm, y_train, batch_size=X_train_norm.shape[0], \\\n",
    "                    epochs=EPOCHS, validation_split=0.1, verbose = False, callbacks=[PrintEpNum()],workers=48)\n",
    "\n",
    "# PLOTTING HISTORY USING MATPLOTLIB\n",
    "\n",
    "plt.figure()\n",
    "plt.xlabel('Epoch')\n",
    "plt.ylabel('Accuracy')\n",
    "plt.plot(history.epoch, np.array(history.history['accuracy']),label='Training Accuracy')\n",
    "plt.plot(history.epoch, np.array(history.history['val_accuracy']),label = 'Validation Accuracy')\n",
    "plt.legend()\n",
    "plt.show()"
   ]
  },
  {
   "cell_type": "code",
   "execution_count": 16,
   "metadata": {
    "tags": []
   },
   "outputs": [
    {
     "name": "stdout",
     "output_type": "stream",
     "text": [
      "Training Set Accuracy: 0.985750\n",
      "Testing Set Accuracy: 0.986687\n"
     ]
    }
   ],
   "source": [
    "loss, acc = model.evaluate(X_train_norm, y_train, verbose=0)\n",
    "\n",
    "print(\"Training Set Accuracy: %f\" %(acc))\n",
    "\n",
    "loss, acc = model.evaluate(X_test_norm, y_test, verbose=0)\n",
    "\n",
    "print(\"Testing Set Accuracy: %f\" %(acc))"
   ]
  },
  {
   "cell_type": "markdown",
   "metadata": {},
   "source": [
    "#### Save The Trained Model"
   ]
  },
  {
   "cell_type": "code",
   "execution_count": null,
   "metadata": {},
   "outputs": [],
   "source": [
    "path=os.getcwd()"
   ]
  },
  {
   "cell_type": "code",
   "execution_count": 20,
   "metadata": {
    "tags": []
   },
   "outputs": [],
   "source": [
    "model.save(os.path.expanduser(path+'classifier_model.h5'))"
   ]
  },
  {
   "cell_type": "markdown",
   "metadata": {},
   "source": [
    "#### Load The previous model"
   ]
  },
  {
   "cell_type": "code",
   "execution_count": null,
   "metadata": {},
   "outputs": [],
   "source": [
    "model=tf.keras.load_model(os.path.expanduser(path+'classifier_model.h5'))"
   ]
  },
  {
   "cell_type": "code",
   "execution_count": 24,
   "metadata": {},
   "outputs": [
    {
     "data": {
      "image/png": "[encoded data removed]",
      "text/plain": [
       "<Figure size 432x288 with 1 Axes>"
      ]
     },
     "metadata": {
      "needs_background": "light"
     },
     "output_type": "display_data"
    }
   ],
   "source": [
    "test_norm=np.linspace(-0.1,0.3,100)\n",
    "test_shear=np.linspace(-0.2,0.2,100)\n",
    "test_cord=[[i,j,0.06] for i in test_norm for j in test_norm]\n",
    "test_cord=np.array(test_cord)\n",
    "predictions=model.predict(scaler.fit_transform(test_cord))\n",
    "predictions=np.argmax(predictions,axis=1)\n",
    "predictions[predictions==0]=-1\n",
    "predictions[predictions==1]=0\n",
    "predictions[predictions==2]=1\n",
    "sns.scatterplot(x=test_cord[:,0],y=test_cord[:,1],hue=predictions).figure.savefig(\"output_6.png\")"
   ]
  },
  {
   "cell_type": "markdown",
   "metadata": {
    "tags": []
   },
   "source": [
    "# Stress Regression"
   ]
  },
  {
   "cell_type": "markdown",
   "metadata": {},
   "source": [
    "## Defect Free Stress Regression"
   ]
  },
  {
   "cell_type": "markdown",
   "metadata": {},
   "source": [
    "### Select only the Defect Free data points( \"defect_mode\"=1)"
   ]
  },
  {
   "cell_type": "code",
   "execution_count": 17,
   "metadata": {},
   "outputs": [],
   "source": [
    "defect_free=data[data[\"defect_mode\"]==1]"
   ]
  },
  {
   "cell_type": "markdown",
   "metadata": {},
   "source": [
    "### Seperate the Inputes(strain states) and Outputs(stress states)"
   ]
  },
  {
   "cell_type": "code",
   "execution_count": 18,
   "metadata": {},
   "outputs": [],
   "source": [
    "# Input Features and stress Regresson\n",
    "X_sr1= defect_free.iloc[:,0:3] # input feature/strain-state\n",
    "y_sr1=defect_free.iloc[:,3:6] # output feature/stress-state"
   ]
  },
  {
   "cell_type": "markdown",
   "metadata": {},
   "source": [
    "### Training Test Split"
   ]
  },
  {
   "cell_type": "code",
   "execution_count": 19,
   "metadata": {},
   "outputs": [],
   "source": [
    "X_sr1_train,X_sr1_test,y_sr1_train,y_sr1_test=train_test_split(X_sr1,y_sr1,test_size=0.1,random_state=42)"
   ]
  },
  {
   "cell_type": "markdown",
   "metadata": {},
   "source": [
    "### Feature Scaling"
   ]
  },
  {
   "cell_type": "code",
   "execution_count": 20,
   "metadata": {},
   "outputs": [],
   "source": [
    "scaler=StandardScaler()\n",
    "X_sr1_train_norm=scaler.fit_transform(X_sr1_train)\n",
    "X_sr1_test_norm=scaler.fit_transform(X_sr1_test)"
   ]
  },
  {
   "cell_type": "markdown",
   "metadata": {},
   "source": [
    "### Defining the Keral Model"
   ]
  },
  {
   "cell_type": "code",
   "execution_count": 21,
   "metadata": {},
   "outputs": [
    {
     "name": "stdout",
     "output_type": "stream",
     "text": [
      "Model: \"sequential_1\"\n",
      "_________________________________________________________________\n",
      "Layer (type)                 Output Shape              Param #   \n",
      "=================================================================\n",
      "dense_3 (Dense)              (None, 32)                128       \n",
      "_________________________________________________________________\n",
      "dense_4 (Dense)              (None, 16)                528       \n",
      "_________________________________________________________________\n",
      "dense_5 (Dense)              (None, 8)                 136       \n",
      "_________________________________________________________________\n",
      "dense_6 (Dense)              (None, 3)                 27        \n",
      "=================================================================\n",
      "Total params: 819\n",
      "Trainable params: 819\n",
      "Non-trainable params: 0\n",
      "_________________________________________________________________\n"
     ]
    }
   ],
   "source": [
    "# DEFINITION OF THE MODEL\n",
    "\n",
    "# The weights of our neural network will be initialized in a random manner, using a seed allows for reproducibility\n",
    "kernel_init = initializers.RandomNormal(seed=0)\n",
    "bias_init = initializers.Zeros()\n",
    "# In a sequential model, the first layer must specify the input shape the model will expect; \n",
    "# in this case the value is train_values.shape[1] which is the number\n",
    "# of attributes (properties) and equals 17.\n",
    "\n",
    "model = Sequential()\n",
    "model.add(Dense(32, activation='relu', input_shape=(X_sr1_train.shape[1], ), kernel_initializer=kernel_init, bias_initializer=bias_init))\n",
    "model.add(Dense(16, activation='relu', kernel_initializer=kernel_init, bias_initializer=bias_init))\n",
    "model.add(Dense(8, activation='relu', kernel_initializer=kernel_init, bias_initializer=bias_init))\n",
    "model.add(Dense(3, kernel_initializer=kernel_init, bias_initializer=bias_init))\n",
    "\n",
    "# DEFINITION OF THE OPTIMIZER\n",
    "\n",
    "optimizer = optimizers.RMSprop(0.002) # Root Mean Squared Propagation\n",
    "\n",
    "# This line matches the optimizer to the model and states which metrics will evaluate the model's accuracy\n",
    "model.compile(loss='mae', optimizer=optimizer, metrics=['mae'])\n",
    "model.summary()"
   ]
  },
  {
   "cell_type": "code",
   "execution_count": 22,
   "metadata": {
    "tags": []
   },
   "outputs": [
    {
     "name": "stdout",
     "output_type": "stream",
     "text": [
      "Current Epoch: 8000 Training Loss: 0.351728                                       \r"
     ]
    },
    {
     "data": {
      "image/png": "[encoded data removed]",
      "text/plain": [
       "<Figure size 432x288 with 1 Axes>"
      ]
     },
     "metadata": {
      "needs_background": "light"
     },
     "output_type": "display_data"
    }
   ],
   "source": [
    "# EPOCH REAL TIME COUNTER CLASS\n",
    "class PrintEpNum(tf.keras.callbacks.Callback): # This is a function for the Epoch Counter\n",
    "    def on_epoch_end(self, epoch, logs):\n",
    "        sys.stdout.flush()\n",
    "        sys.stdout.write(\"Current Epoch: \" + str(epoch+1) + \" Training Loss: \" + \"%4f\" %logs.get('loss') + '                                       \\r') # Updates current Epoch Number\n",
    "\n",
    "EPOCHS = 8000 # Number of EPOCHS\n",
    "\n",
    "# HISTORY Object which contains how the model learned\n",
    "\n",
    "# Training Values (Properties), Training Labels (Known Young's Moduli) \n",
    "history = model.fit(X_sr1_train_norm, y_sr1_train, batch_size=X_sr1_train_norm.shape[0], \n",
    "                    epochs=EPOCHS, verbose = False, shuffle=False, validation_split=0.1, callbacks=[PrintEpNum()],\n",
    "                    workers=48)\n",
    "\n",
    "\n",
    "# PLOTTING HISTORY USING MATPLOTLIB\n",
    "\n",
    "plt.figure()\n",
    "plt.xlabel('Epoch')\n",
    "plt.ylabel('Mean Abs Error')\n",
    "plt.plot(history.epoch, np.array(history.history['mae']),label='Loss on training set') \n",
    "plt.plot(history.epoch, np.array(history.history['val_mae']),label = 'Validation loss')\n",
    "plt.legend()\n",
    "plt.show()"
   ]
  },
  {
   "cell_type": "code",
   "execution_count": 24,
   "metadata": {},
   "outputs": [
    {
     "name": "stdout",
     "output_type": "stream",
     "text": [
      "Testing Set Mean Absolute Error: 0.38 GPa\n"
     ]
    }
   ],
   "source": [
    "[loss, mae] = model.evaluate(X_sr1_test_norm, y_sr1_test, verbose=0)\n",
    "\n",
    "print(\"Testing Set Mean Absolute Error: {:2.2f} GPa\".format(mae))"
   ]
  },
  {
   "cell_type": "markdown",
   "metadata": {},
   "source": [
    "#### Save the trained model"
   ]
  },
  {
   "cell_type": "code",
   "execution_count": null,
   "metadata": {},
   "outputs": [],
   "source": [
    "path=os.getcwd()"
   ]
  },
  {
   "cell_type": "code",
   "execution_count": null,
   "metadata": {},
   "outputs": [],
   "source": [
    "model.save(os.path.expanduser(path+'stabe_sr.h5'))"
   ]
  },
  {
   "cell_type": "markdown",
   "metadata": {},
   "source": [
    "#### Load previously saved model"
   ]
  },
  {
   "cell_type": "code",
   "execution_count": null,
   "metadata": {},
   "outputs": [],
   "source": [
    "model=tf.keras.model.load_model(path+'stable_sr.h5')"
   ]
  }
 ],
 "metadata": {
  "kernelspec": {
   "display_name": "Python 3",
   "language": "python",
   "name": "python3"
  },
  "language_info": {
   "codemirror_mode": {
    "name": "ipython",
    "version": 3
   },
   "file_extension": ".py",
   "mimetype": "text/x-python",
   "name": "python",
   "nbconvert_exporter": "python",
   "pygments_lexer": "ipython3",
   "version": "3.8.8"
  }
 },
 "nbformat": 4,
 "nbformat_minor": 4
}
