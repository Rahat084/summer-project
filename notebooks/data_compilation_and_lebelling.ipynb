{
 "cells": [
  {
   "cell_type": "code",
   "execution_count": 2,
   "metadata": {},
   "outputs": [],
   "source": [
    "import pandas as pd\n",
    "import numpy as np\n",
    "import matplotlib.pyplot as plt\n",
    "import glob\n",
    "import seaborn as sns"
   ]
  },
  {
   "cell_type": "code",
   "execution_count": 4,
   "metadata": {},
   "outputs": [],
   "source": [
    "columns=[\"strain11\",\"strain22\",\"strain12\",\"stress11\",\"stress22\",\"stress12\",\"total_centrosymmetry\",\"max_centrosymmetry\"]"
   ]
  },
  {
   "cell_type": "markdown",
   "metadata": {},
   "source": [
    "### Read from all the data files and store in a dataframe"
   ]
  },
  {
   "cell_type": "code",
   "execution_count": 5,
   "metadata": {},
   "outputs": [],
   "source": [
    "path = \"../data/lammps-output/\" # use your path\n",
    "all_files = glob.glob(path + \"/*.txt\")\n",
    "\n",
    "li = []\n",
    "\n",
    "for filename in all_files:\n",
    "    df = pd.read_csv(filename,skiprows=1,delimiter=\" \",names=columns)\n",
    "    li.append(df)\n",
    "\n",
    "frame = pd.concat(li, axis=0, ignore_index=True)"
   ]
  },
  {
   "cell_type": "code",
   "execution_count": 5,
   "metadata": {},
   "outputs": [
    {
     "data": {
      "text/html": [
       "<div>\n",
       "<style scoped>\n",
       "    .dataframe tbody tr th:only-of-type {\n",
       "        vertical-align: middle;\n",
       "    }\n",
       "\n",
       "    .dataframe tbody tr th {\n",
       "        vertical-align: top;\n",
       "    }\n",
       "\n",
       "    .dataframe thead th {\n",
       "        text-align: right;\n",
       "    }\n",
       "</style>\n",
       "<table border=\"1\" class=\"dataframe\">\n",
       "  <thead>\n",
       "    <tr style=\"text-align: right;\">\n",
       "      <th></th>\n",
       "      <th>strain11</th>\n",
       "      <th>strain22</th>\n",
       "      <th>strain12</th>\n",
       "      <th>stress11</th>\n",
       "      <th>stress22</th>\n",
       "      <th>stress12</th>\n",
       "      <th>total_centrosymmetry</th>\n",
       "      <th>max_centrosymmetry</th>\n",
       "    </tr>\n",
       "  </thead>\n",
       "  <tbody>\n",
       "    <tr>\n",
       "      <th>0</th>\n",
       "      <td>-5.000000e-05</td>\n",
       "      <td>-0.00005</td>\n",
       "      <td>0.000000</td>\n",
       "      <td>-0.013583</td>\n",
       "      <td>-0.022138</td>\n",
       "      <td>0.000618</td>\n",
       "      <td>5257.036892</td>\n",
       "      <td>3.733919</td>\n",
       "    </tr>\n",
       "    <tr>\n",
       "      <th>1</th>\n",
       "      <td>-1.000000e-04</td>\n",
       "      <td>-0.00010</td>\n",
       "      <td>0.000000</td>\n",
       "      <td>-0.040113</td>\n",
       "      <td>-0.008942</td>\n",
       "      <td>-0.005942</td>\n",
       "      <td>5344.397247</td>\n",
       "      <td>3.865128</td>\n",
       "    </tr>\n",
       "    <tr>\n",
       "      <th>2</th>\n",
       "      <td>-1.500000e-04</td>\n",
       "      <td>-0.00015</td>\n",
       "      <td>0.000000</td>\n",
       "      <td>-0.033780</td>\n",
       "      <td>-0.031261</td>\n",
       "      <td>-0.008021</td>\n",
       "      <td>5376.989010</td>\n",
       "      <td>3.890606</td>\n",
       "    </tr>\n",
       "    <tr>\n",
       "      <th>3</th>\n",
       "      <td>-2.000000e-04</td>\n",
       "      <td>-0.00020</td>\n",
       "      <td>0.000000</td>\n",
       "      <td>-0.037354</td>\n",
       "      <td>-0.059623</td>\n",
       "      <td>0.004804</td>\n",
       "      <td>5315.367401</td>\n",
       "      <td>4.256244</td>\n",
       "    </tr>\n",
       "    <tr>\n",
       "      <th>4</th>\n",
       "      <td>-2.500000e-04</td>\n",
       "      <td>-0.00025</td>\n",
       "      <td>0.000000</td>\n",
       "      <td>-0.053246</td>\n",
       "      <td>-0.049469</td>\n",
       "      <td>-0.007299</td>\n",
       "      <td>5301.982347</td>\n",
       "      <td>4.893839</td>\n",
       "    </tr>\n",
       "    <tr>\n",
       "      <th>...</th>\n",
       "      <td>...</td>\n",
       "      <td>...</td>\n",
       "      <td>...</td>\n",
       "      <td>...</td>\n",
       "      <td>...</td>\n",
       "      <td>...</td>\n",
       "      <td>...</td>\n",
       "      <td>...</td>\n",
       "    </tr>\n",
       "    <tr>\n",
       "      <th>169995</th>\n",
       "      <td>8.740412e-16</td>\n",
       "      <td>-0.19980</td>\n",
       "      <td>-0.199078</td>\n",
       "      <td>-25.823458</td>\n",
       "      <td>-28.607663</td>\n",
       "      <td>-2.075425</td>\n",
       "      <td>12020.765604</td>\n",
       "      <td>10.648768</td>\n",
       "    </tr>\n",
       "    <tr>\n",
       "      <th>169996</th>\n",
       "      <td>8.740412e-16</td>\n",
       "      <td>-0.19985</td>\n",
       "      <td>-0.199127</td>\n",
       "      <td>-25.765683</td>\n",
       "      <td>-28.580675</td>\n",
       "      <td>-2.109421</td>\n",
       "      <td>11883.454957</td>\n",
       "      <td>10.925446</td>\n",
       "    </tr>\n",
       "    <tr>\n",
       "      <th>169997</th>\n",
       "      <td>8.740412e-16</td>\n",
       "      <td>-0.19990</td>\n",
       "      <td>-0.199177</td>\n",
       "      <td>-25.709577</td>\n",
       "      <td>-28.600624</td>\n",
       "      <td>-2.110126</td>\n",
       "      <td>11844.958527</td>\n",
       "      <td>10.555822</td>\n",
       "    </tr>\n",
       "    <tr>\n",
       "      <th>169998</th>\n",
       "      <td>8.740412e-16</td>\n",
       "      <td>-0.19995</td>\n",
       "      <td>-0.199227</td>\n",
       "      <td>-25.744227</td>\n",
       "      <td>-28.640716</td>\n",
       "      <td>-2.143415</td>\n",
       "      <td>11959.143603</td>\n",
       "      <td>11.241321</td>\n",
       "    </tr>\n",
       "    <tr>\n",
       "      <th>169999</th>\n",
       "      <td>8.740412e-16</td>\n",
       "      <td>-0.20000</td>\n",
       "      <td>-0.199277</td>\n",
       "      <td>-25.749188</td>\n",
       "      <td>-28.601329</td>\n",
       "      <td>-2.156893</td>\n",
       "      <td>12066.472923</td>\n",
       "      <td>11.692146</td>\n",
       "    </tr>\n",
       "  </tbody>\n",
       "</table>\n",
       "<p>170000 rows × 8 columns</p>\n",
       "</div>"
      ],
      "text/plain": [
       "            strain11  strain22  strain12   stress11   stress22  stress12  \\\n",
       "0      -5.000000e-05  -0.00005  0.000000  -0.013583  -0.022138  0.000618   \n",
       "1      -1.000000e-04  -0.00010  0.000000  -0.040113  -0.008942 -0.005942   \n",
       "2      -1.500000e-04  -0.00015  0.000000  -0.033780  -0.031261 -0.008021   \n",
       "3      -2.000000e-04  -0.00020  0.000000  -0.037354  -0.059623  0.004804   \n",
       "4      -2.500000e-04  -0.00025  0.000000  -0.053246  -0.049469 -0.007299   \n",
       "...              ...       ...       ...        ...        ...       ...   \n",
       "169995  8.740412e-16  -0.19980 -0.199078 -25.823458 -28.607663 -2.075425   \n",
       "169996  8.740412e-16  -0.19985 -0.199127 -25.765683 -28.580675 -2.109421   \n",
       "169997  8.740412e-16  -0.19990 -0.199177 -25.709577 -28.600624 -2.110126   \n",
       "169998  8.740412e-16  -0.19995 -0.199227 -25.744227 -28.640716 -2.143415   \n",
       "169999  8.740412e-16  -0.20000 -0.199277 -25.749188 -28.601329 -2.156893   \n",
       "\n",
       "        total_centrosymmetry  max_centrosymmetry  \n",
       "0                5257.036892            3.733919  \n",
       "1                5344.397247            3.865128  \n",
       "2                5376.989010            3.890606  \n",
       "3                5315.367401            4.256244  \n",
       "4                5301.982347            4.893839  \n",
       "...                      ...                 ...  \n",
       "169995          12020.765604           10.648768  \n",
       "169996          11883.454957           10.925446  \n",
       "169997          11844.958527           10.555822  \n",
       "169998          11959.143603           11.241321  \n",
       "169999          12066.472923           11.692146  \n",
       "\n",
       "[170000 rows x 8 columns]"
      ]
     },
     "metadata": {},
     "output_type": "display_data"
    }
   ],
   "source": [
    "display(frame)"
   ]
  },
  {
   "cell_type": "markdown",
   "metadata": {},
   "source": [
    "### Below are all 26 simulation output files"
   ]
  },
  {
   "cell_type": "code",
   "execution_count": 6,
   "metadata": {
    "scrolled": true
   },
   "outputs": [
    {
     "name": "stdout",
     "output_type": "stream",
     "text": [
      "0 ./data_generation_script/data/data_collection/Al_bicomp_s0.def.txt\n",
      "1 ./data_generation_script/data/data_collection/Al_bicomp_s20.def.txt\n",
      "2 ./data_generation_script/data/data_collection/Al_bicomp_sn20.def.txt\n",
      "3 ./data_generation_script/data/data_collection/Al_bitencomp_s0.def.txt\n",
      "4 ./data_generation_script/data/data_collection/Al_bitencomp_s20.def.txt\n",
      "5 ./data_generation_script/data/data_collection/Al_bitencomp_sn20.def.txt\n",
      "6 ./data_generation_script/data/data_collection/Al_biten_s0.def.txt\n",
      "7 ./data_generation_script/data/data_collection/Al_biten_s20.def.txt\n",
      "8 ./data_generation_script/data/data_collection/Al_biten_sn20.def.txt\n",
      "9 ./data_generation_script/data/data_collection/Al_s20.def.txt\n",
      "10 ./data_generation_script/data/data_collection/Al_sn20.def.txt\n",
      "11 ./data_generation_script/data/data_collection/Al_unicomp_s0.def.txt\n",
      "12 ./data_generation_script/data/data_collection/Al_unicomp_s20.def.txt\n",
      "13 ./data_generation_script/data/data_collection/Al_unicomp_sn20.def.txt\n",
      "14 ./data_generation_script/data/data_collection/Al_uniten_s0.def.txt\n",
      "15 ./data_generation_script/data/data_collection/Al_uniten_s20.def.txt\n",
      "16 ./data_generation_script/data/data_collection/Al_uniten_sn20.def.txt\n",
      "17 ./data_generation_script/data/data_collection/Al_bitencompy_s0.def.txt\n",
      "18 ./data_generation_script/data/data_collection/Al_bitencompy_s20.def.txt\n",
      "19 ./data_generation_script/data/data_collection/Al_bitencompy_sn20.def.txt\n",
      "20 ./data_generation_script/data/data_collection/Al_uniteny_s0.def.txt\n",
      "21 ./data_generation_script/data/data_collection/Al_uniteny_s20.def.txt\n",
      "22 ./data_generation_script/data/data_collection/Al_uniteny_sn20.def.txt\n",
      "23 ./data_generation_script/data/data_collection/Al_unicompy_s0.def.txt\n",
      "24 ./data_generation_script/data/data_collection/Al_unicompy_s20.def.txt\n",
      "25 ./data_generation_script/data/data_collection/Al_unicompy_sn20.def.txt\n"
     ]
    }
   ],
   "source": [
    "for ind,file in enumerate(all_files):\n",
    "    print(ind,file)"
   ]
  },
  {
   "cell_type": "markdown",
   "metadata": {},
   "source": [
    "### Analyse and Visualize the results of Each sumulation run\n",
    "\n",
    "Each dataframe can be called by its indexes assigned above"
   ]
  },
  {
   "cell_type": "code",
   "execution_count": 95,
   "metadata": {
    "scrolled": true
   },
   "outputs": [
    {
     "data": {
      "text/html": [
       "<div>\n",
       "<style scoped>\n",
       "    .dataframe tbody tr th:only-of-type {\n",
       "        vertical-align: middle;\n",
       "    }\n",
       "\n",
       "    .dataframe tbody tr th {\n",
       "        vertical-align: top;\n",
       "    }\n",
       "\n",
       "    .dataframe thead th {\n",
       "        text-align: right;\n",
       "    }\n",
       "</style>\n",
       "<table border=\"1\" class=\"dataframe\">\n",
       "  <thead>\n",
       "    <tr style=\"text-align: right;\">\n",
       "      <th></th>\n",
       "      <th>strain11</th>\n",
       "      <th>strain22</th>\n",
       "      <th>strain12</th>\n",
       "      <th>stress11</th>\n",
       "      <th>stress22</th>\n",
       "      <th>stress12</th>\n",
       "      <th>total_centrosymmetry</th>\n",
       "      <th>max_centrosymmetry</th>\n",
       "    </tr>\n",
       "  </thead>\n",
       "  <tbody>\n",
       "    <tr>\n",
       "      <th>0</th>\n",
       "      <td>-0.00005</td>\n",
       "      <td>0.00005</td>\n",
       "      <td>0</td>\n",
       "      <td>-0.007137</td>\n",
       "      <td>-0.011012</td>\n",
       "      <td>0.000615</td>\n",
       "      <td>5258.048551</td>\n",
       "      <td>3.735365</td>\n",
       "    </tr>\n",
       "    <tr>\n",
       "      <th>1</th>\n",
       "      <td>-0.00010</td>\n",
       "      <td>0.00010</td>\n",
       "      <td>0</td>\n",
       "      <td>-0.027098</td>\n",
       "      <td>0.013421</td>\n",
       "      <td>-0.005931</td>\n",
       "      <td>5346.274697</td>\n",
       "      <td>3.865391</td>\n",
       "    </tr>\n",
       "    <tr>\n",
       "      <th>2</th>\n",
       "      <td>-0.00015</td>\n",
       "      <td>0.00015</td>\n",
       "      <td>0</td>\n",
       "      <td>-0.014199</td>\n",
       "      <td>0.002380</td>\n",
       "      <td>-0.007989</td>\n",
       "      <td>5380.019124</td>\n",
       "      <td>3.899357</td>\n",
       "    </tr>\n",
       "    <tr>\n",
       "      <th>3</th>\n",
       "      <td>-0.00020</td>\n",
       "      <td>0.00020</td>\n",
       "      <td>0</td>\n",
       "      <td>-0.011187</td>\n",
       "      <td>-0.014651</td>\n",
       "      <td>0.004782</td>\n",
       "      <td>5318.885210</td>\n",
       "      <td>4.265620</td>\n",
       "    </tr>\n",
       "    <tr>\n",
       "      <th>4</th>\n",
       "      <td>-0.00025</td>\n",
       "      <td>0.00025</td>\n",
       "      <td>0</td>\n",
       "      <td>-0.020465</td>\n",
       "      <td>0.006752</td>\n",
       "      <td>-0.007194</td>\n",
       "      <td>5306.228035</td>\n",
       "      <td>4.881496</td>\n",
       "    </tr>\n",
       "    <tr>\n",
       "      <th>5</th>\n",
       "      <td>-0.00030</td>\n",
       "      <td>0.00030</td>\n",
       "      <td>0</td>\n",
       "      <td>-0.034153</td>\n",
       "      <td>-0.001141</td>\n",
       "      <td>0.003982</td>\n",
       "      <td>5381.090120</td>\n",
       "      <td>4.439184</td>\n",
       "    </tr>\n",
       "    <tr>\n",
       "      <th>6</th>\n",
       "      <td>-0.00035</td>\n",
       "      <td>0.00035</td>\n",
       "      <td>0</td>\n",
       "      <td>-0.031021</td>\n",
       "      <td>0.017285</td>\n",
       "      <td>-0.004314</td>\n",
       "      <td>5303.145691</td>\n",
       "      <td>3.993720</td>\n",
       "    </tr>\n",
       "    <tr>\n",
       "      <th>7</th>\n",
       "      <td>-0.00040</td>\n",
       "      <td>0.00040</td>\n",
       "      <td>0</td>\n",
       "      <td>-0.043651</td>\n",
       "      <td>0.025830</td>\n",
       "      <td>-0.011920</td>\n",
       "      <td>5207.691288</td>\n",
       "      <td>5.881351</td>\n",
       "    </tr>\n",
       "    <tr>\n",
       "      <th>8</th>\n",
       "      <td>-0.00045</td>\n",
       "      <td>0.00045</td>\n",
       "      <td>0</td>\n",
       "      <td>-0.040161</td>\n",
       "      <td>0.028540</td>\n",
       "      <td>-0.011960</td>\n",
       "      <td>5326.805952</td>\n",
       "      <td>5.119017</td>\n",
       "    </tr>\n",
       "    <tr>\n",
       "      <th>9</th>\n",
       "      <td>-0.00050</td>\n",
       "      <td>0.00050</td>\n",
       "      <td>0</td>\n",
       "      <td>-0.041991</td>\n",
       "      <td>0.032688</td>\n",
       "      <td>-0.004695</td>\n",
       "      <td>5324.985692</td>\n",
       "      <td>3.393648</td>\n",
       "    </tr>\n",
       "  </tbody>\n",
       "</table>\n",
       "</div>"
      ],
      "text/plain": [
       "   strain11  strain22  strain12  stress11  stress22  stress12  \\\n",
       "0  -0.00005   0.00005         0 -0.007137 -0.011012  0.000615   \n",
       "1  -0.00010   0.00010         0 -0.027098  0.013421 -0.005931   \n",
       "2  -0.00015   0.00015         0 -0.014199  0.002380 -0.007989   \n",
       "3  -0.00020   0.00020         0 -0.011187 -0.014651  0.004782   \n",
       "4  -0.00025   0.00025         0 -0.020465  0.006752 -0.007194   \n",
       "5  -0.00030   0.00030         0 -0.034153 -0.001141  0.003982   \n",
       "6  -0.00035   0.00035         0 -0.031021  0.017285 -0.004314   \n",
       "7  -0.00040   0.00040         0 -0.043651  0.025830 -0.011920   \n",
       "8  -0.00045   0.00045         0 -0.040161  0.028540 -0.011960   \n",
       "9  -0.00050   0.00050         0 -0.041991  0.032688 -0.004695   \n",
       "\n",
       "   total_centrosymmetry  max_centrosymmetry  \n",
       "0           5258.048551            3.735365  \n",
       "1           5346.274697            3.865391  \n",
       "2           5380.019124            3.899357  \n",
       "3           5318.885210            4.265620  \n",
       "4           5306.228035            4.881496  \n",
       "5           5381.090120            4.439184  \n",
       "6           5303.145691            3.993720  \n",
       "7           5207.691288            5.881351  \n",
       "8           5326.805952            5.119017  \n",
       "9           5324.985692            3.393648  "
      ]
     },
     "metadata": {},
     "output_type": "display_data"
    }
   ],
   "source": [
    "display(li[17][:10])"
   ]
  },
  {
   "cell_type": "code",
   "execution_count": 5,
   "metadata": {},
   "outputs": [
    {
     "data": {
      "text/plain": [
       "[<matplotlib.lines.Line2D at 0x7fa62e1c1790>]"
      ]
     },
     "execution_count": 5,
     "metadata": {},
     "output_type": "execute_result"
    },
    {
     "data": {
      "image/png": "[encoded data removed]",
      "text/plain": [
       "<Figure size 432x288 with 1 Axes>"
      ]
     },
     "metadata": {
      "needs_background": "light"
     },
     "output_type": "display_data"
    }
   ],
   "source": [
    "plt.plot(abs(li[3][\"strain11\"]),abs(li[3][\"stress11\"]))\n",
    "plt.plot(abs(li[3][\"strain11\"]),abs(li[3][\"stress22\"]))\n",
    "plt.plot(abs(li[3][\"strain11\"]),abs(li[3][\"stress12\"]))\n",
    "#plt.plot(abs(li[6][\"strain12\"]),abs(li[6][\"total_centrosymmetry\"])/1000)"
   ]
  },
  {
   "cell_type": "code",
   "execution_count": 10,
   "metadata": {
    "scrolled": true
   },
   "outputs": [
    {
     "data": {
      "image/png": "[encoded data removed]",
      "text/plain": [
       "<Figure size 432x288 with 1 Axes>"
      ]
     },
     "metadata": {
      "needs_background": "light"
     },
     "output_type": "display_data"
    }
   ],
   "source": [
    "plt.plot(abs(li[14][\"strain11\"]),abs(li[14][\"stress11\"]),label=r'$\\sigma_{xx}$')\n",
    "plt.plot(abs(li[14][\"strain11\"]),abs(li[14][\"stress22\"]),label=r'$\\sigma_{yy}$')\n",
    "plt.plot(abs(li[14][\"strain11\"]),abs(li[14][\"stress12\"]),label=r'$\\sigma_{xy}$')\n",
    "plt.xlabel(\"Strain\")\n",
    "plt.ylabel(\"Stress(GPa)\")\n",
    "plt.legend()\n",
    "plt.savefig(\"uniaxial.png\")\n",
    "#plt.plot(abs(li[2][\"strain11\"]),abs(li[3][\"total_centrosymmetry\"])/1000)"
   ]
  },
  {
   "cell_type": "code",
   "execution_count": 10,
   "metadata": {},
   "outputs": [
    {
     "data": {
      "text/plain": [
       "[<matplotlib.lines.Line2D at 0x7fa62e0e8400>]"
      ]
     },
     "execution_count": 10,
     "metadata": {},
     "output_type": "execute_result"
    },
    {
     "data": {
      "image/png": "[encoded data removed]",
      "text/plain": [
       "<Figure size 432x288 with 1 Axes>"
      ]
     },
     "metadata": {
      "needs_background": "light"
     },
     "output_type": "display_data"
    }
   ],
   "source": [
    "plt.plot(abs(li[13][\"strain12\"]),abs(li[13][\"stress11\"]))\n",
    "plt.plot(abs(li[13][\"strain12\"]),abs(li[13][\"stress22\"]))\n",
    "plt.plot(abs(li[13][\"strain12\"]),abs(li[13][\"stress12\"]))\n",
    "#plt.plot(abs(li[2][\"strain11\"]),abs(li[2][\"total_centrosymmetry\"]/1000))"
   ]
  },
  {
   "cell_type": "markdown",
   "metadata": {},
   "source": [
    "### Label Defect Modes"
   ]
  },
  {
   "cell_type": "markdown",
   "metadata": {},
   "source": [
    "Defect Mode column is added  to the dataframe based on atomistic observation through OVITO\n",
    "\n",
    "Defect free mode:  1 \\\n",
    "Dislocation Mode:  0 \\\n",
    "Void Mode       : -1 "
   ]
  },
  {
   "cell_type": "markdown",
   "metadata": {},
   "source": [
    "#### Uniaxial Tension"
   ]
  },
  {
   "cell_type": "markdown",
   "metadata": {},
   "source": [
    "No Shear"
   ]
  },
  {
   "cell_type": "code",
   "execution_count": 13,
   "metadata": {},
   "outputs": [],
   "source": [
    "li[14][\"defect_mode\"]=0 # x-axis tension\n",
    "li[14][\"defect_mode\"].iloc[0:980]=1\n",
    "li[14][\"defect_mode\"].iloc[1118:]=-1"
   ]
  },
  {
   "cell_type": "code",
   "execution_count": 11,
   "metadata": {},
   "outputs": [],
   "source": [
    "li[20][\"defect_mode\"]=0 # y-axis tension\n",
    "li[20][\"defect_mode\"].iloc[0:980]=1\n",
    "li[20][\"defect_mode\"].iloc[1118:]=-1"
   ]
  },
  {
   "cell_type": "markdown",
   "metadata": {},
   "source": [
    "Positive Shear"
   ]
  },
  {
   "cell_type": "code",
   "execution_count": 12,
   "metadata": {},
   "outputs": [],
   "source": [
    "li[15][\"defect_mode\"]=0 # x-axis tension\n",
    "li[15][\"defect_mode\"].iloc[0:1087]=1\n",
    "li[15][\"defect_mode\"].iloc[1428:]=-1"
   ]
  },
  {
   "cell_type": "code",
   "execution_count": 13,
   "metadata": {},
   "outputs": [],
   "source": [
    "li[21][\"defect_mode\"]=0 # y-axis tension\n",
    "li[21][\"defect_mode\"].iloc[0:1087]=1\n",
    "li[21][\"defect_mode\"].iloc[1428:]=-1"
   ]
  },
  {
   "cell_type": "markdown",
   "metadata": {},
   "source": [
    "Negetive Shear"
   ]
  },
  {
   "cell_type": "code",
   "execution_count": 14,
   "metadata": {},
   "outputs": [],
   "source": [
    "li[16][\"defect_mode\"]=0 # x-axis tension\n",
    "li[16][\"defect_mode\"].iloc[0:1067]=1\n",
    "li[16][\"defect_mode\"].iloc[1435:]=-1"
   ]
  },
  {
   "cell_type": "code",
   "execution_count": 15,
   "metadata": {},
   "outputs": [],
   "source": [
    "li[22][\"defect_mode\"]=0 # y-axis tension\n",
    "li[22][\"defect_mode\"].iloc[0:1067]=1\n",
    "li[22][\"defect_mode\"].iloc[1435:]=-1"
   ]
  },
  {
   "cell_type": "markdown",
   "metadata": {},
   "source": [
    "#### Uniaxial Compression"
   ]
  },
  {
   "cell_type": "markdown",
   "metadata": {},
   "source": [
    "No Shear"
   ]
  },
  {
   "cell_type": "code",
   "execution_count": 16,
   "metadata": {
    "scrolled": true
   },
   "outputs": [],
   "source": [
    "li[11][\"defect_mode\"]=0 # x-axis compression\n",
    "li[11][\"defect_mode\"].iloc[0:1026]=1"
   ]
  },
  {
   "cell_type": "code",
   "execution_count": 121,
   "metadata": {
    "scrolled": true
   },
   "outputs": [],
   "source": [
    "li[23][\"defect_mode\"]=0 # y-axis compression\n",
    "li[23][\"defect_mode\"].iloc[0:1026]=1"
   ]
  },
  {
   "cell_type": "markdown",
   "metadata": {},
   "source": [
    "Positive Shear"
   ]
  },
  {
   "cell_type": "code",
   "execution_count": 122,
   "metadata": {},
   "outputs": [],
   "source": [
    "li[12][\"defect_mode\"]=0 # x-axis compression\n",
    "li[12][\"defect_mode\"].iloc[0:1084]=1"
   ]
  },
  {
   "cell_type": "code",
   "execution_count": 123,
   "metadata": {
    "scrolled": true
   },
   "outputs": [],
   "source": [
    "li[24][\"defect_mode\"]=0 # y-axis compression\n",
    "li[24][\"defect_mode\"].iloc[0:1084]=1"
   ]
  },
  {
   "cell_type": "markdown",
   "metadata": {},
   "source": [
    "Negetive Shear"
   ]
  },
  {
   "cell_type": "code",
   "execution_count": 124,
   "metadata": {
    "scrolled": true
   },
   "outputs": [],
   "source": [
    "li[13][\"defect_mode\"]=0 # x-axis compression\n",
    "li[13][\"defect_mode\"].iloc[0:1080]=1"
   ]
  },
  {
   "cell_type": "code",
   "execution_count": 125,
   "metadata": {
    "scrolled": true
   },
   "outputs": [],
   "source": [
    "li[25][\"defect_mode\"]=0 # y-axis compression\n",
    "li[25][\"defect_mode\"].iloc[0:1080]=1"
   ]
  },
  {
   "cell_type": "markdown",
   "metadata": {},
   "source": [
    "#### Biaxial Tension"
   ]
  },
  {
   "cell_type": "markdown",
   "metadata": {},
   "source": [
    "No Shear"
   ]
  },
  {
   "cell_type": "code",
   "execution_count": 103,
   "metadata": {},
   "outputs": [],
   "source": [
    "li[6][\"defect_mode\"]=0\n",
    "li[6][\"defect_mode\"].iloc[0:534]=1\n",
    "li[6][\"defect_mode\"].iloc[855:]=-1"
   ]
  },
  {
   "cell_type": "markdown",
   "metadata": {},
   "source": [
    "Positive Shear"
   ]
  },
  {
   "cell_type": "code",
   "execution_count": 104,
   "metadata": {},
   "outputs": [],
   "source": [
    "li[7][\"defect_mode\"]=0\n",
    "li[7][\"defect_mode\"].iloc[0:714]=1\n",
    "li[7][\"defect_mode\"].iloc[746:]=-1"
   ]
  },
  {
   "cell_type": "markdown",
   "metadata": {},
   "source": [
    "Negetive Shear"
   ]
  },
  {
   "cell_type": "code",
   "execution_count": 105,
   "metadata": {},
   "outputs": [],
   "source": [
    "li[8][\"defect_mode\"]=0\n",
    "li[8][\"defect_mode\"].iloc[0:715]=1\n",
    "li[8][\"defect_mode\"].iloc[774:]=-1"
   ]
  },
  {
   "cell_type": "markdown",
   "metadata": {},
   "source": [
    "#### Biaxial Tension-Compression"
   ]
  },
  {
   "cell_type": "markdown",
   "metadata": {},
   "source": [
    "No Shear"
   ]
  },
  {
   "cell_type": "code",
   "execution_count": 106,
   "metadata": {},
   "outputs": [],
   "source": [
    "li[3][\"defect_mode\"]=0 # x-axis tension,y-axis compression\n",
    "li[3][\"defect_mode\"].iloc[0:755]=1"
   ]
  },
  {
   "cell_type": "code",
   "execution_count": 107,
   "metadata": {},
   "outputs": [],
   "source": [
    "li[17][\"defect_mode\"]=0 # x-axis compression, y-axis tension\n",
    "li[17][\"defect_mode\"].iloc[0:755]=1"
   ]
  },
  {
   "cell_type": "markdown",
   "metadata": {},
   "source": [
    "Positive Shear"
   ]
  },
  {
   "cell_type": "code",
   "execution_count": 108,
   "metadata": {},
   "outputs": [],
   "source": [
    "li[4][\"defect_mode\"]=0 # x-axis tension,y-axis compression\n",
    "li[4][\"defect_mode\"].iloc[0:645]=1"
   ]
  },
  {
   "cell_type": "code",
   "execution_count": 109,
   "metadata": {},
   "outputs": [],
   "source": [
    "li[18][\"defect_mode\"]=0 # x-axis compression, y-axis tension\n",
    "li[18][\"defect_mode\"].iloc[0:645]=1"
   ]
  },
  {
   "cell_type": "markdown",
   "metadata": {},
   "source": [
    "Negetive Shear"
   ]
  },
  {
   "cell_type": "code",
   "execution_count": 110,
   "metadata": {},
   "outputs": [],
   "source": [
    "li[5][\"defect_mode\"]=0 # x-axis tension,y-axis compression\n",
    "li[5][\"defect_mode\"].iloc[0:632]=1"
   ]
  },
  {
   "cell_type": "code",
   "execution_count": 111,
   "metadata": {},
   "outputs": [],
   "source": [
    "li[19][\"defect_mode\"]=0 # x-axis compression, y-axis tension\n",
    "li[19][\"defect_mode\"].iloc[0:632]=1"
   ]
  },
  {
   "cell_type": "markdown",
   "metadata": {},
   "source": [
    "#### Biaxial Comporession"
   ]
  },
  {
   "cell_type": "markdown",
   "metadata": {},
   "source": [
    "No Shear"
   ]
  },
  {
   "cell_type": "code",
   "execution_count": 112,
   "metadata": {},
   "outputs": [],
   "source": [
    "li[0][\"defect_mode\"]=1"
   ]
  },
  {
   "cell_type": "markdown",
   "metadata": {},
   "source": [
    "Positive Shear"
   ]
  },
  {
   "cell_type": "code",
   "execution_count": 114,
   "metadata": {},
   "outputs": [],
   "source": [
    "li[1][\"defect_mode\"]=0\n",
    "li[1][\"defect_mode\"].iloc[0:716]=1"
   ]
  },
  {
   "cell_type": "markdown",
   "metadata": {},
   "source": [
    "Negetive Shear"
   ]
  },
  {
   "cell_type": "code",
   "execution_count": 14,
   "metadata": {},
   "outputs": [],
   "source": [
    "li[2][\"defect_mode\"]=0\n",
    "li[2][\"defect_mode\"].iloc[0:717]=1"
   ]
  },
  {
   "cell_type": "markdown",
   "metadata": {},
   "source": [
    "#### Pure Shear"
   ]
  },
  {
   "cell_type": "markdown",
   "metadata": {},
   "source": [
    "Positive Shear"
   ]
  },
  {
   "cell_type": "code",
   "execution_count": 115,
   "metadata": {},
   "outputs": [],
   "source": [
    "li[9][\"defect_mode\"]=0\n",
    "li[9][\"defect_mode\"].iloc[0:3794]=1"
   ]
  },
  {
   "cell_type": "markdown",
   "metadata": {},
   "source": [
    "Negetive Shear"
   ]
  },
  {
   "cell_type": "code",
   "execution_count": 153,
   "metadata": {},
   "outputs": [],
   "source": [
    "li[10][\"defect_mode\"]=0\n",
    "li[10][\"defect_mode\"].iloc[0:3820]=1"
   ]
  },
  {
   "cell_type": "markdown",
   "metadata": {},
   "source": [
    "### Data cleanup and output the dataframe"
   ]
  },
  {
   "cell_type": "code",
   "execution_count": 159,
   "metadata": {},
   "outputs": [],
   "source": [
    "frame_cleaned = pd.concat(li[0:25], axis=0, ignore_index=True)"
   ]
  },
  {
   "cell_type": "code",
   "execution_count": 160,
   "metadata": {},
   "outputs": [],
   "source": [
    "frame_cleaned=frame_cleaned.drop([\"total_centrosymmetry\",\"max_centrosymmetry\"],axis=1)"
   ]
  },
  {
   "cell_type": "code",
   "execution_count": 162,
   "metadata": {},
   "outputs": [
    {
     "data": {
      "text/plain": [
       "False"
      ]
     },
     "execution_count": 162,
     "metadata": {},
     "output_type": "execute_result"
    }
   ],
   "source": [
    "frame_cleaned[\"defect_mode\"].isnull().values.any()"
   ]
  },
  {
   "cell_type": "code",
   "execution_count": 167,
   "metadata": {},
   "outputs": [],
   "source": [
    "frame_cleaned.to_csv(\"data_all\",index=False)"
   ]
  },
  {
   "cell_type": "code",
   "execution_count": 168,
   "metadata": {},
   "outputs": [],
   "source": [
    "defect_free=frame_cleaned[frame_cleaned[\"defect_mode\"]==1]"
   ]
  },
  {
   "cell_type": "code",
   "execution_count": 165,
   "metadata": {},
   "outputs": [
    {
     "data": {
      "text/html": [
       "<div>\n",
       "<style scoped>\n",
       "    .dataframe tbody tr th:only-of-type {\n",
       "        vertical-align: middle;\n",
       "    }\n",
       "\n",
       "    .dataframe tbody tr th {\n",
       "        vertical-align: top;\n",
       "    }\n",
       "\n",
       "    .dataframe thead th {\n",
       "        text-align: right;\n",
       "    }\n",
       "</style>\n",
       "<table border=\"1\" class=\"dataframe\">\n",
       "  <thead>\n",
       "    <tr style=\"text-align: right;\">\n",
       "      <th></th>\n",
       "      <th>strain11</th>\n",
       "      <th>strain22</th>\n",
       "      <th>strain12</th>\n",
       "      <th>stress11</th>\n",
       "      <th>stress22</th>\n",
       "      <th>stress12</th>\n",
       "      <th>defect_mode</th>\n",
       "    </tr>\n",
       "  </thead>\n",
       "  <tbody>\n",
       "    <tr>\n",
       "      <th>0</th>\n",
       "      <td>-5.000000e-05</td>\n",
       "      <td>-0.00005</td>\n",
       "      <td>0.000000</td>\n",
       "      <td>-0.013583</td>\n",
       "      <td>-0.022138</td>\n",
       "      <td>0.000618</td>\n",
       "      <td>1</td>\n",
       "    </tr>\n",
       "    <tr>\n",
       "      <th>1</th>\n",
       "      <td>-1.000000e-04</td>\n",
       "      <td>-0.00010</td>\n",
       "      <td>0.000000</td>\n",
       "      <td>-0.040113</td>\n",
       "      <td>-0.008942</td>\n",
       "      <td>-0.005942</td>\n",
       "      <td>1</td>\n",
       "    </tr>\n",
       "    <tr>\n",
       "      <th>2</th>\n",
       "      <td>-1.500000e-04</td>\n",
       "      <td>-0.00015</td>\n",
       "      <td>0.000000</td>\n",
       "      <td>-0.033780</td>\n",
       "      <td>-0.031261</td>\n",
       "      <td>-0.008021</td>\n",
       "      <td>1</td>\n",
       "    </tr>\n",
       "    <tr>\n",
       "      <th>3</th>\n",
       "      <td>-2.000000e-04</td>\n",
       "      <td>-0.00020</td>\n",
       "      <td>0.000000</td>\n",
       "      <td>-0.037354</td>\n",
       "      <td>-0.059623</td>\n",
       "      <td>0.004804</td>\n",
       "      <td>1</td>\n",
       "    </tr>\n",
       "    <tr>\n",
       "      <th>4</th>\n",
       "      <td>-2.500000e-04</td>\n",
       "      <td>-0.00025</td>\n",
       "      <td>0.000000</td>\n",
       "      <td>-0.053246</td>\n",
       "      <td>-0.049469</td>\n",
       "      <td>-0.007299</td>\n",
       "      <td>1</td>\n",
       "    </tr>\n",
       "    <tr>\n",
       "      <th>...</th>\n",
       "      <td>...</td>\n",
       "      <td>...</td>\n",
       "      <td>...</td>\n",
       "      <td>...</td>\n",
       "      <td>...</td>\n",
       "      <td>...</td>\n",
       "      <td>...</td>\n",
       "    </tr>\n",
       "    <tr>\n",
       "      <th>163079</th>\n",
       "      <td>8.740412e-16</td>\n",
       "      <td>-0.05400</td>\n",
       "      <td>0.053805</td>\n",
       "      <td>-4.425278</td>\n",
       "      <td>-7.408560</td>\n",
       "      <td>2.735693</td>\n",
       "      <td>1</td>\n",
       "    </tr>\n",
       "    <tr>\n",
       "      <th>163080</th>\n",
       "      <td>8.740412e-16</td>\n",
       "      <td>-0.05405</td>\n",
       "      <td>0.053855</td>\n",
       "      <td>-4.421093</td>\n",
       "      <td>-7.417804</td>\n",
       "      <td>2.757560</td>\n",
       "      <td>1</td>\n",
       "    </tr>\n",
       "    <tr>\n",
       "      <th>163081</th>\n",
       "      <td>8.740412e-16</td>\n",
       "      <td>-0.05410</td>\n",
       "      <td>0.053904</td>\n",
       "      <td>-4.423316</td>\n",
       "      <td>-7.437053</td>\n",
       "      <td>2.755333</td>\n",
       "      <td>1</td>\n",
       "    </tr>\n",
       "    <tr>\n",
       "      <th>163082</th>\n",
       "      <td>8.740412e-16</td>\n",
       "      <td>-0.05415</td>\n",
       "      <td>0.053954</td>\n",
       "      <td>-4.426206</td>\n",
       "      <td>-7.468788</td>\n",
       "      <td>2.759241</td>\n",
       "      <td>1</td>\n",
       "    </tr>\n",
       "    <tr>\n",
       "      <th>163083</th>\n",
       "      <td>8.740412e-16</td>\n",
       "      <td>-0.05420</td>\n",
       "      <td>0.054004</td>\n",
       "      <td>-4.437725</td>\n",
       "      <td>-7.474466</td>\n",
       "      <td>2.775896</td>\n",
       "      <td>1</td>\n",
       "    </tr>\n",
       "  </tbody>\n",
       "</table>\n",
       "<p>30669 rows × 7 columns</p>\n",
       "</div>"
      ],
      "text/plain": [
       "            strain11  strain22  strain12  stress11  stress22  stress12  \\\n",
       "0      -5.000000e-05  -0.00005  0.000000 -0.013583 -0.022138  0.000618   \n",
       "1      -1.000000e-04  -0.00010  0.000000 -0.040113 -0.008942 -0.005942   \n",
       "2      -1.500000e-04  -0.00015  0.000000 -0.033780 -0.031261 -0.008021   \n",
       "3      -2.000000e-04  -0.00020  0.000000 -0.037354 -0.059623  0.004804   \n",
       "4      -2.500000e-04  -0.00025  0.000000 -0.053246 -0.049469 -0.007299   \n",
       "...              ...       ...       ...       ...       ...       ...   \n",
       "163079  8.740412e-16  -0.05400  0.053805 -4.425278 -7.408560  2.735693   \n",
       "163080  8.740412e-16  -0.05405  0.053855 -4.421093 -7.417804  2.757560   \n",
       "163081  8.740412e-16  -0.05410  0.053904 -4.423316 -7.437053  2.755333   \n",
       "163082  8.740412e-16  -0.05415  0.053954 -4.426206 -7.468788  2.759241   \n",
       "163083  8.740412e-16  -0.05420  0.054004 -4.437725 -7.474466  2.775896   \n",
       "\n",
       "        defect_mode  \n",
       "0                 1  \n",
       "1                 1  \n",
       "2                 1  \n",
       "3                 1  \n",
       "4                 1  \n",
       "...             ...  \n",
       "163079            1  \n",
       "163080            1  \n",
       "163081            1  \n",
       "163082            1  \n",
       "163083            1  \n",
       "\n",
       "[30669 rows x 7 columns]"
      ]
     },
     "metadata": {},
     "output_type": "display_data"
    }
   ],
   "source": [
    "display(defect_free)"
   ]
  },
  {
   "cell_type": "code",
   "execution_count": 169,
   "metadata": {},
   "outputs": [],
   "source": [
    "defect_free.to_csv(\"defect_free\",index=False)"
   ]
  }
 ],
 "metadata": {
  "kernelspec": {
   "display_name": "Python 3",
   "language": "python",
   "name": "python3"
  },
  "language_info": {
   "codemirror_mode": {
    "name": "ipython",
    "version": 3
   },
   "file_extension": ".py",
   "mimetype": "text/x-python",
   "name": "python",
   "nbconvert_exporter": "python",
   "pygments_lexer": "ipython3",
   "version": "3.8.8"
  }
 },
 "nbformat": 4,
 "nbformat_minor": 4
}
